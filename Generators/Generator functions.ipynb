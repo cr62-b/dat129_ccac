{
 "cells": [
  {
   "cell_type": "markdown",
   "metadata": {},
   "source": [
    "# Generators and Iterators"
   ]
  },
  {
   "cell_type": "markdown",
   "metadata": {},
   "source": [
    "# dat129_ccac\n",
    "A collection of example code using generators with the build in filter method lambdas for dat129 Python 2."
   ]
  },
  {
   "cell_type": "markdown",
   "metadata": {},
   "source": [
    "## Iterable\n",
    "An iterable object is an object that implements __iter__, which is expected to return an iterator object.\n",
    "A list, strings, tuple, dictionary, set and any custom object which either returns a value from their __iter__() method.\n",
    "Simply said it looped over or is iterable.\n",
    "Reference for python iterators:\n",
    "[Python Iterator](https://wiki.python.org/moin/Iterator)"
   ]
  },
  {
   "cell_type": "code",
   "execution_count": 18,
   "metadata": {},
   "outputs": [
    {
     "name": "stdout",
     "output_type": "stream",
     "text": [
      "[1, 2, 3]\n",
      "1\n",
      "2\n",
      "3\n",
      "-------------------------------------------------------------------------------------------------------------------------------\n",
      "['__add__', '__class__', '__contains__', '__delattr__', '__delitem__', '__dir__', '__doc__', '__eq__', '__format__', '__ge__', '__getattribute__', '__getitem__', '__gt__', '__hash__', '__iadd__', '__imul__', '__init__', '__init_subclass__', '__iter__', '__le__', '__len__', '__lt__', '__mul__', '__ne__', '__new__', '__reduce__', '__reduce_ex__', '__repr__', '__reversed__', '__rmul__', '__setattr__', '__setitem__', '__sizeof__', '__str__', '__subclasshook__', 'append', 'clear', 'copy', 'count', 'extend', 'index', 'insert', 'pop', 'remove', 'reverse', 'sort']\n"
     ]
    }
   ],
   "source": [
    "my_list = [1,2,3]\n",
    "print(my_list)\n",
    "\n",
    "for value in my_list:\n",
    "    print(value) #looping over the list to display one valve at a time\n",
    "\n",
    "print(\"-\"*127)\n",
    "#print the list of dunder methods associated with my-list list object\n",
    "print(dir(my_list)) #if the dir function lists the __iter__ (dunder method iter) is is iterable and can be looped over"
   ]
  },
  {
   "cell_type": "markdown",
   "metadata": {},
   "source": [
    "## Iterators\n",
    "An iterator is an object that can be iterated upon, meaning that you can traverse through all the values. An iterator is an object which consist of the dunder methods \\__iter__() and \\__next__() .\n",
    "An iterator is an object that implements next method, which is expected to return the next element of the iterable object (list, string, tuple, dictionary) that returned it, and raise a StopIteration exception when no more elements are available.\n",
    "\n",
    "Reference for python iterators:\n",
    "[Python Iterator](https://wiki.python.org/moin/Iterator)"
   ]
  },
  {
   "cell_type": "code",
   "execution_count": 19,
   "metadata": {
    "scrolled": true
   },
   "outputs": [
    {
     "name": "stdout",
     "output_type": "stream",
     "text": [
      "1\n",
      "2\n",
      "3\n",
      "-------------------------------------------------------------------------------------------------------------------------------\n",
      "['__class__', '__delattr__', '__dir__', '__doc__', '__eq__', '__format__', '__ge__', '__getattribute__', '__gt__', '__hash__', '__init__', '__init_subclass__', '__iter__', '__le__', '__length_hint__', '__lt__', '__ne__', '__new__', '__next__', '__reduce__', '__reduce_ex__', '__repr__', '__setattr__', '__setstate__', '__sizeof__', '__str__', '__subclasshook__']\n"
     ]
    }
   ],
   "source": [
    "#Using a while loop with a try and exception to manually insert a StopIteration exception\n",
    "my_list = [1,2,3] #numberic list\n",
    "my_iter = iter(my_list) #calls the iter method in the background\n",
    "\n",
    "while True:\n",
    "    try:\n",
    "        item = next(my_iter)\n",
    "        print(item)\n",
    "    except StopIteration:\n",
    "        break\n",
    "\n",
    "print(\"-\"*127)\n",
    "print(dir(my_iter))"
   ]
  },
  {
   "cell_type": "code",
   "execution_count": 20,
   "metadata": {},
   "outputs": [
    {
     "name": "stdout",
     "output_type": "stream",
     "text": [
      "<list_iterator object at 0x000001E68D6D0B48>\n",
      "1\n",
      "2\n",
      "3\n"
     ]
    },
    {
     "ename": "StopIteration",
     "evalue": "",
     "output_type": "error",
     "traceback": [
      "\u001b[1;31m---------------------------------------------------------------------------\u001b[0m",
      "\u001b[1;31mStopIteration\u001b[0m                             Traceback (most recent call last)",
      "\u001b[1;32m<ipython-input-20-ac6bd4f7ab19>\u001b[0m in \u001b[0;36m<module>\u001b[1;34m\u001b[0m\n\u001b[0;32m      7\u001b[0m \u001b[0mprint\u001b[0m\u001b[1;33m(\u001b[0m\u001b[0mnext\u001b[0m\u001b[1;33m(\u001b[0m\u001b[0mmy_iter\u001b[0m\u001b[1;33m)\u001b[0m\u001b[1;33m)\u001b[0m \u001b[1;31m#prints the second value in the list object using the next dunder method\u001b[0m\u001b[1;33m\u001b[0m\u001b[1;33m\u001b[0m\u001b[0m\n\u001b[0;32m      8\u001b[0m \u001b[0mprint\u001b[0m\u001b[1;33m(\u001b[0m\u001b[0mnext\u001b[0m\u001b[1;33m(\u001b[0m\u001b[0mmy_iter\u001b[0m\u001b[1;33m)\u001b[0m\u001b[1;33m)\u001b[0m \u001b[1;31m#prints the third valve in the list object using the next dunder method\u001b[0m\u001b[1;33m\u001b[0m\u001b[1;33m\u001b[0m\u001b[0m\n\u001b[1;32m----> 9\u001b[1;33m \u001b[0mprint\u001b[0m\u001b[1;33m(\u001b[0m\u001b[0mnext\u001b[0m\u001b[1;33m(\u001b[0m\u001b[0mmy_iter\u001b[0m\u001b[1;33m)\u001b[0m\u001b[1;33m)\u001b[0m \u001b[1;31m#will print the \"StopIteration\" exception because it has exhausted all of the values\u001b[0m\u001b[1;33m\u001b[0m\u001b[1;33m\u001b[0m\u001b[0m\n\u001b[0m\u001b[0;32m     10\u001b[0m \u001b[1;33m\u001b[0m\u001b[0m\n\u001b[0;32m     11\u001b[0m \u001b[0mprint\u001b[0m\u001b[1;33m(\u001b[0m\u001b[1;34m\"-\"\u001b[0m\u001b[1;33m*\u001b[0m\u001b[1;36m127\u001b[0m\u001b[1;33m)\u001b[0m\u001b[1;33m\u001b[0m\u001b[1;33m\u001b[0m\u001b[0m\n",
      "\u001b[1;31mStopIteration\u001b[0m: "
     ]
    }
   ],
   "source": [
    "#Using the iterator method and the next method to display the values in the list\n",
    "my_list = [1,2,3] #numberic list\n",
    "my_iter = iter(my_list) #calls the iter method in the background\n",
    "\n",
    "print(my_iter) #displays the list iterator object and memory location\n",
    "print(next(my_iter)) #prints the first value in the list object\n",
    "print(next(my_iter)) #prints the second value in the list object using the next dunder method\n",
    "print(next(my_iter)) #prints the third valve in the list object using the next dunder method\n",
    "print(next(my_iter)) #will print the \"StopIteration\" exception because it has exhausted all of the values\n",
    "\n",
    "print(\"-\"*127)\n",
    "print(dir(my_iter)) #print the list of dunder methods associated with my-iter iterator object\n",
    "#Notice the StopIteration exception; the for loop handled the exception in the back ground and the while loop used an exception\n",
    "#Note: an iterator can never go backwards"
   ]
  },
  {
   "cell_type": "markdown",
   "metadata": {},
   "source": [
    "## Generators\n",
    "Generator functions allow you to declare a function that behaves like an iterator, i.e. it can be used in a for loop.  Python generators are a simple way of creating iterators. ... Simply speaking, a generator is a function that returns an object (iterator) which we can iterate over (one value at a time).\n",
    "Therefore a generator is a special type of iterable which is able to generate data on demand rather than all the data existing at the time the iteration starts.  This is expecially important in memory management; if and\n",
    "Reference for python generators.\n",
    "[Python Generators](https://wiki.python.org/moin/Generators)"
   ]
  },
  {
   "cell_type": "code",
   "execution_count": 16,
   "metadata": {
    "scrolled": true
   },
   "outputs": [
    {
     "name": "stdout",
     "output_type": "stream",
     "text": [
      "<filter object at 0x000001E68DA2E088>\n",
      "[1, 2, 3]\n"
     ]
    }
   ],
   "source": [
    "#Generator using the filter function\n",
    "#The gererator prints a list of all integers and filters out the strings.\n",
    "#This simplified version returns the isinstance of x that are integers\n",
    "my_list = [1,\"x\",2,\"y\",\"3\",\"z\",3]\n",
    "\n",
    "def my_int(x):\n",
    "    #The isinstance() function returns True if the specified object is of the specified type, otherwise False.\n",
    "    return isinstance(x, int)\n",
    "\n",
    "filter_list = filter(my_int, my_list) #the filter function requires a function & iterable (my_int function and my_list iterable)\n",
    "\n",
    "print(filter_list)\n",
    "print(list(filter_list))"
   ]
  },
  {
   "cell_type": "markdown",
   "metadata": {},
   "source": [
    "### Generator function, list and list comprehension "
   ]
  },
  {
   "cell_type": "code",
   "execution_count": 22,
   "metadata": {},
   "outputs": [
    {
     "name": "stdout",
     "output_type": "stream",
     "text": [
      "<generator object my_gen at 0x000001E68DA238C8>\n",
      "1\n",
      "2\n",
      "3\n"
     ]
    }
   ],
   "source": [
    "#Generator function to display the values 1, 2, 3 without using a list\n",
    "def my_gen(start, end):\n",
    "    current = start\n",
    "    while current <= end:\n",
    "        yield current\n",
    "        current += 1\n",
    "\n",
    "my_list = my_gen(1,3)\n",
    "\n",
    "print(my_list)\n",
    "for value in my_list: #The for loop uses the iter and next methods in the background\n",
    "    print(value)\n",
    "    \n"
   ]
  },
  {
   "cell_type": "code",
   "execution_count": 7,
   "metadata": {},
   "outputs": [
    {
     "name": "stdout",
     "output_type": "stream",
     "text": [
      "<generator object my_gen at 0x000001E68DA1B048>\n",
      "1\n",
      "4\n",
      "9\n"
     ]
    }
   ],
   "source": [
    "#The yield keyword makes this a generator\n",
    "#The generator does not hold all of the results in memory it yields the square of a number one result at a time.\n",
    "def my_gen(squ_nums):\n",
    "    for current in squ_nums:\n",
    "        yield (current*current)\n",
    "        \n",
    "my_list = my_gen([1,2,3])\n",
    "\n",
    "print(my_list) #displays the generator object and the memory location\n",
    "\n",
    "for value in my_list:\n",
    "    print(value)"
   ]
  },
  {
   "cell_type": "markdown",
   "metadata": {},
   "source": [
    "#### List and list comprehensions"
   ]
  },
  {
   "cell_type": "code",
   "execution_count": 8,
   "metadata": {},
   "outputs": [
    {
     "name": "stdout",
     "output_type": "stream",
     "text": [
      "[1, 4, 9]\n"
     ]
    }
   ],
   "source": [
    "#Normal list stores all of the values to memory and processes the entire list of variables\n",
    "my_list = []\n",
    "for value in (1,2,3):\n",
    "    my_list.append(value**2) #add to the list the square of each value in the tuple\n",
    "\n",
    "print(my_list)\n"
   ]
  },
  {
   "cell_type": "code",
   "execution_count": 12,
   "metadata": {},
   "outputs": [
    {
     "name": "stdout",
     "output_type": "stream",
     "text": [
      "<generator object <genexpr> at 0x000001E68DA231C8>\n",
      "1\n",
      "4\n",
      "9\n"
     ]
    }
   ],
   "source": [
    "#List comprehension generator generates one value at a time\n",
    "my_list = (x **2 for x in (1,2,3)) #building a list of the square of the each value in the tuple\n",
    "\n",
    "print(my_list)\n",
    "for value in my_list:\n",
    "    print(value)"
   ]
  },
  {
   "cell_type": "code",
   "execution_count": 13,
   "metadata": {},
   "outputs": [
    {
     "name": "stdout",
     "output_type": "stream",
     "text": [
      "[1, 2, 3, 4, 5, 6, 7, 8, 9, 10, 11, 12, 13, 14, 15, 16, 17, 18, 19, 20]\n"
     ]
    }
   ],
   "source": [
    "#A large amount of dat can be stored in memory as a list\n",
    "my_list = [1,2,3,4,5,6,7,8,9,10,11,12,13,14,15,16,17,18,19,20]\n",
    "print(my_list)"
   ]
  },
  {
   "cell_type": "code",
   "execution_count": 15,
   "metadata": {},
   "outputs": [
    {
     "name": "stdout",
     "output_type": "stream",
     "text": [
      "<generator object my_gen at 0x000001E68DA234C8>\n",
      "1\n",
      "2\n",
      "3\n",
      "4\n",
      "5\n",
      "6\n",
      "7\n",
      "8\n",
      "9\n",
      "10\n",
      "11\n",
      "12\n",
      "13\n",
      "14\n",
      "15\n",
      "16\n",
      "17\n",
      "18\n",
      "19\n",
      "20\n"
     ]
    }
   ],
   "source": [
    "#Or a list can be generated one execution at a time saving execution time and memory resources\n",
    "#Generator function to display the values 1, 2, 3,... 20 without using a list\n",
    "def my_gen(start, end):\n",
    "    current = start\n",
    "    while current <= end:\n",
    "        yield current\n",
    "        current += 1\n",
    "\n",
    "my_list = my_gen(1,20)\n",
    "\n",
    "print(my_list)\n",
    "for value in my_list: #The for loop uses the iter and next methods in the background\n",
    "    print(value)"
   ]
  },
  {
   "cell_type": "markdown",
   "metadata": {},
   "source": [
    "The biggest avantages of generators over list.  A list stores all of the data in the list where the generator preforms on execution at a time conserving memory and execution time.\n",
    "Note: All generators are iterators but not all iterators are generators."
   ]
  },
  {
   "cell_type": "code",
   "execution_count": null,
   "metadata": {},
   "outputs": [],
   "source": []
  }
 ],
 "metadata": {
  "kernelspec": {
   "display_name": "Python 3",
   "language": "python",
   "name": "python3"
  }
 },
 "nbformat": 4,
 "nbformat_minor": 4
}
